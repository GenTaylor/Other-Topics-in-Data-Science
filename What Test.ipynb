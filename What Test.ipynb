{
 "cells": [
  {
   "cell_type": "markdown",
   "metadata": {},
   "source": [
    "## Challenge: What test to use\n",
    "\n",
    "Using selected questions from the 2012 and 2014 editions of the European Social Survey, address the following questions. Keep track of your code and results in a Jupyter notebook or other source that you can share with your mentor. For each question, explain why you chose the approach you did.\n",
    "\n",
    "Here is the data file. And here is the codebook, with information about the variable coding and content.\n",
    "\n",
    "In this dataset, the same participants answered questions in 2012 and again 2014.\n",
    "\n",
    "1. Did people become less trusting from 2012 to 2014? Compute results for each country in the sample.\n",
    "2. Did people become happier from 2012 to 2014? Compute results for each country in the sample.\n",
    "3. Who reported watching more TV in 2012, men or women?\n",
    "4. Who was more likely to believe people were fair in 2012, people living with a partner or people living alone?\n",
    "5. Pick three or four of the countries in the sample and compare how often people met socially in 2014. Are there differences, and if so, which countries stand out?\n",
    "6. Pick three or four of the countries in the sample and compare how often people took part in social activities, relative to others their age, in 2014. Are there differences, and if so, which countries stand out?"
   ]
  },
  {
   "cell_type": "code",
   "execution_count": 1,
   "metadata": {},
   "outputs": [],
   "source": [
    "#Import modules\n",
    "import numpy as np\n",
    "import pandas as pd\n",
    "import sklearn\n",
    "import scipy\n",
    "import scipy.stats as stats\n",
    "import matplotlib.pyplot as plt\n",
    "\n",
    "import seaborn as sns\n",
    "import math\n",
    "\n",
    "%matplotlib inline\n",
    "import warnings\n",
    "warnings.filterwarnings(\"ignore\")\n",
    "import io\n",
    "import requests\n",
    "\n",
    "import pylab"
   ]
  },
  {
   "cell_type": "code",
   "execution_count": 2,
   "metadata": {},
   "outputs": [],
   "source": [
    "df = pd.read_csv((\"https://raw.githubusercontent.com/Thinkful-Ed/data-201-resources/master/ESS_practice_data/ESSdata_Thinkful.csv\"))"
   ]
  },
  {
   "cell_type": "code",
   "execution_count": 3,
   "metadata": {},
   "outputs": [
    {
     "data": {
      "text/html": [
       "<div>\n",
       "<style scoped>\n",
       "    .dataframe tbody tr th:only-of-type {\n",
       "        vertical-align: middle;\n",
       "    }\n",
       "\n",
       "    .dataframe tbody tr th {\n",
       "        vertical-align: top;\n",
       "    }\n",
       "\n",
       "    .dataframe thead th {\n",
       "        text-align: right;\n",
       "    }\n",
       "</style>\n",
       "<table border=\"1\" class=\"dataframe\">\n",
       "  <thead>\n",
       "    <tr style=\"text-align: right;\">\n",
       "      <th></th>\n",
       "      <th>cntry</th>\n",
       "      <th>idno</th>\n",
       "      <th>year</th>\n",
       "      <th>tvtot</th>\n",
       "      <th>ppltrst</th>\n",
       "      <th>pplfair</th>\n",
       "      <th>pplhlp</th>\n",
       "      <th>happy</th>\n",
       "      <th>sclmeet</th>\n",
       "      <th>sclact</th>\n",
       "      <th>gndr</th>\n",
       "      <th>agea</th>\n",
       "      <th>partner</th>\n",
       "    </tr>\n",
       "  </thead>\n",
       "  <tbody>\n",
       "    <tr>\n",
       "      <th>0</th>\n",
       "      <td>CH</td>\n",
       "      <td>5.0</td>\n",
       "      <td>6</td>\n",
       "      <td>3.0</td>\n",
       "      <td>3.0</td>\n",
       "      <td>10.0</td>\n",
       "      <td>5.0</td>\n",
       "      <td>8.0</td>\n",
       "      <td>5.0</td>\n",
       "      <td>4.0</td>\n",
       "      <td>2.0</td>\n",
       "      <td>60.0</td>\n",
       "      <td>1.0</td>\n",
       "    </tr>\n",
       "    <tr>\n",
       "      <th>1</th>\n",
       "      <td>CH</td>\n",
       "      <td>25.0</td>\n",
       "      <td>6</td>\n",
       "      <td>6.0</td>\n",
       "      <td>5.0</td>\n",
       "      <td>7.0</td>\n",
       "      <td>5.0</td>\n",
       "      <td>9.0</td>\n",
       "      <td>3.0</td>\n",
       "      <td>2.0</td>\n",
       "      <td>2.0</td>\n",
       "      <td>59.0</td>\n",
       "      <td>1.0</td>\n",
       "    </tr>\n",
       "    <tr>\n",
       "      <th>2</th>\n",
       "      <td>CH</td>\n",
       "      <td>26.0</td>\n",
       "      <td>6</td>\n",
       "      <td>1.0</td>\n",
       "      <td>8.0</td>\n",
       "      <td>8.0</td>\n",
       "      <td>8.0</td>\n",
       "      <td>7.0</td>\n",
       "      <td>6.0</td>\n",
       "      <td>3.0</td>\n",
       "      <td>1.0</td>\n",
       "      <td>24.0</td>\n",
       "      <td>2.0</td>\n",
       "    </tr>\n",
       "    <tr>\n",
       "      <th>3</th>\n",
       "      <td>CH</td>\n",
       "      <td>28.0</td>\n",
       "      <td>6</td>\n",
       "      <td>4.0</td>\n",
       "      <td>6.0</td>\n",
       "      <td>6.0</td>\n",
       "      <td>7.0</td>\n",
       "      <td>10.0</td>\n",
       "      <td>6.0</td>\n",
       "      <td>2.0</td>\n",
       "      <td>2.0</td>\n",
       "      <td>64.0</td>\n",
       "      <td>1.0</td>\n",
       "    </tr>\n",
       "    <tr>\n",
       "      <th>4</th>\n",
       "      <td>CH</td>\n",
       "      <td>29.0</td>\n",
       "      <td>6</td>\n",
       "      <td>5.0</td>\n",
       "      <td>6.0</td>\n",
       "      <td>7.0</td>\n",
       "      <td>5.0</td>\n",
       "      <td>8.0</td>\n",
       "      <td>7.0</td>\n",
       "      <td>2.0</td>\n",
       "      <td>2.0</td>\n",
       "      <td>55.0</td>\n",
       "      <td>1.0</td>\n",
       "    </tr>\n",
       "  </tbody>\n",
       "</table>\n",
       "</div>"
      ],
      "text/plain": [
       "  cntry  idno  year  tvtot  ppltrst  pplfair  pplhlp  happy  sclmeet  sclact  \\\n",
       "0    CH   5.0     6    3.0      3.0     10.0     5.0    8.0      5.0     4.0   \n",
       "1    CH  25.0     6    6.0      5.0      7.0     5.0    9.0      3.0     2.0   \n",
       "2    CH  26.0     6    1.0      8.0      8.0     8.0    7.0      6.0     3.0   \n",
       "3    CH  28.0     6    4.0      6.0      6.0     7.0   10.0      6.0     2.0   \n",
       "4    CH  29.0     6    5.0      6.0      7.0     5.0    8.0      7.0     2.0   \n",
       "\n",
       "   gndr  agea  partner  \n",
       "0   2.0  60.0      1.0  \n",
       "1   2.0  59.0      1.0  \n",
       "2   1.0  24.0      2.0  \n",
       "3   2.0  64.0      1.0  \n",
       "4   2.0  55.0      1.0  "
      ]
     },
     "execution_count": 3,
     "metadata": {},
     "output_type": "execute_result"
    }
   ],
   "source": [
    "df.head()"
   ]
  },
  {
   "cell_type": "code",
   "execution_count": 4,
   "metadata": {},
   "outputs": [
    {
     "data": {
      "image/png": "[encoded data removed]",
      "text/plain": [
       "<Figure size 432x288 with 12 Axes>"
      ]
     },
     "metadata": {
      "needs_background": "light"
     },
     "output_type": "display_data"
    }
   ],
   "source": [
    "df.hist()\n",
    "\n",
    "plt.show()"
   ]
  },
  {
   "cell_type": "code",
   "execution_count": 5,
   "metadata": {},
   "outputs": [
    {
     "data": {
      "text/plain": [
       "cntry        0\n",
       "idno         0\n",
       "year         0\n",
       "tvtot        8\n",
       "ppltrst     14\n",
       "pplfair     39\n",
       "pplhlp      25\n",
       "happy       31\n",
       "sclmeet     15\n",
       "sclact      94\n",
       "gndr        10\n",
       "agea       239\n",
       "partner     17\n",
       "dtype: int64"
      ]
     },
     "execution_count": 5,
     "metadata": {},
     "output_type": "execute_result"
    }
   ],
   "source": [
    "df.isnull().sum()"
   ]
  },
  {
   "cell_type": "code",
   "execution_count": 6,
   "metadata": {},
   "outputs": [
    {
     "data": {
      "text/plain": [
       "cntry      0\n",
       "idno       0\n",
       "year       0\n",
       "tvtot      0\n",
       "ppltrst    0\n",
       "pplfair    0\n",
       "pplhlp     0\n",
       "happy      0\n",
       "sclmeet    0\n",
       "sclact     0\n",
       "gndr       0\n",
       "agea       0\n",
       "partner    0\n",
       "dtype: int64"
      ]
     },
     "execution_count": 6,
     "metadata": {},
     "output_type": "execute_result"
    }
   ],
   "source": [
    "df.fillna(inplace=True,method='ffill')\n",
    "\n",
    "df.isnull().sum()"
   ]
  },
  {
   "cell_type": "code",
   "execution_count": null,
   "metadata": {},
   "outputs": [],
   "source": [
    "# df = df.dropna()\n",
    "# df.isnull().sum()"
   ]
  },
  {
   "cell_type": "code",
   "execution_count": 8,
   "metadata": {},
   "outputs": [
    {
     "data": {
      "text/html": [
       "<div>\n",
       "<style scoped>\n",
       "    .dataframe tbody tr th:only-of-type {\n",
       "        vertical-align: middle;\n",
       "    }\n",
       "\n",
       "    .dataframe tbody tr th {\n",
       "        vertical-align: top;\n",
       "    }\n",
       "\n",
       "    .dataframe thead th {\n",
       "        text-align: right;\n",
       "    }\n",
       "</style>\n",
       "<table border=\"1\" class=\"dataframe\">\n",
       "  <thead>\n",
       "    <tr style=\"text-align: right;\">\n",
       "      <th></th>\n",
       "      <th>idno</th>\n",
       "      <th>year</th>\n",
       "      <th>tvtot</th>\n",
       "      <th>ppltrst</th>\n",
       "      <th>pplfair</th>\n",
       "      <th>pplhlp</th>\n",
       "      <th>happy</th>\n",
       "      <th>sclmeet</th>\n",
       "      <th>sclact</th>\n",
       "      <th>gndr</th>\n",
       "      <th>agea</th>\n",
       "      <th>partner</th>\n",
       "    </tr>\n",
       "  </thead>\n",
       "  <tbody>\n",
       "    <tr>\n",
       "      <th>count</th>\n",
       "      <td>8.594000e+03</td>\n",
       "      <td>8594.000000</td>\n",
       "      <td>8594.000000</td>\n",
       "      <td>8594.00000</td>\n",
       "      <td>8594.000000</td>\n",
       "      <td>8594.000000</td>\n",
       "      <td>8594.000000</td>\n",
       "      <td>8594.000000</td>\n",
       "      <td>8594.000000</td>\n",
       "      <td>8594.000000</td>\n",
       "      <td>8594.000000</td>\n",
       "      <td>8594.000000</td>\n",
       "    </tr>\n",
       "    <tr>\n",
       "      <th>mean</th>\n",
       "      <td>3.954938e+04</td>\n",
       "      <td>6.500000</td>\n",
       "      <td>3.862928</td>\n",
       "      <td>5.55818</td>\n",
       "      <td>6.002094</td>\n",
       "      <td>5.318013</td>\n",
       "      <td>7.694322</td>\n",
       "      <td>5.192343</td>\n",
       "      <td>2.749476</td>\n",
       "      <td>1.496858</td>\n",
       "      <td>47.635094</td>\n",
       "      <td>1.384687</td>\n",
       "    </tr>\n",
       "    <tr>\n",
       "      <th>std</th>\n",
       "      <td>6.267259e+05</td>\n",
       "      <td>0.500029</td>\n",
       "      <td>2.019760</td>\n",
       "      <td>2.23587</td>\n",
       "      <td>2.130447</td>\n",
       "      <td>2.173812</td>\n",
       "      <td>1.735172</td>\n",
       "      <td>1.459052</td>\n",
       "      <td>0.905112</td>\n",
       "      <td>0.500019</td>\n",
       "      <td>18.421901</td>\n",
       "      <td>0.486550</td>\n",
       "    </tr>\n",
       "    <tr>\n",
       "      <th>min</th>\n",
       "      <td>1.000000e+00</td>\n",
       "      <td>6.000000</td>\n",
       "      <td>0.000000</td>\n",
       "      <td>0.00000</td>\n",
       "      <td>0.000000</td>\n",
       "      <td>0.000000</td>\n",
       "      <td>0.000000</td>\n",
       "      <td>1.000000</td>\n",
       "      <td>1.000000</td>\n",
       "      <td>1.000000</td>\n",
       "      <td>15.000000</td>\n",
       "      <td>1.000000</td>\n",
       "    </tr>\n",
       "    <tr>\n",
       "      <th>25%</th>\n",
       "      <td>1.052000e+03</td>\n",
       "      <td>6.000000</td>\n",
       "      <td>2.000000</td>\n",
       "      <td>4.00000</td>\n",
       "      <td>5.000000</td>\n",
       "      <td>4.000000</td>\n",
       "      <td>7.000000</td>\n",
       "      <td>4.000000</td>\n",
       "      <td>2.000000</td>\n",
       "      <td>1.000000</td>\n",
       "      <td>33.000000</td>\n",
       "      <td>1.000000</td>\n",
       "    </tr>\n",
       "    <tr>\n",
       "      <th>50%</th>\n",
       "      <td>1.714000e+03</td>\n",
       "      <td>6.500000</td>\n",
       "      <td>4.000000</td>\n",
       "      <td>6.00000</td>\n",
       "      <td>6.000000</td>\n",
       "      <td>5.000000</td>\n",
       "      <td>8.000000</td>\n",
       "      <td>6.000000</td>\n",
       "      <td>3.000000</td>\n",
       "      <td>1.000000</td>\n",
       "      <td>47.000000</td>\n",
       "      <td>1.000000</td>\n",
       "    </tr>\n",
       "    <tr>\n",
       "      <th>75%</th>\n",
       "      <td>2.745000e+03</td>\n",
       "      <td>7.000000</td>\n",
       "      <td>5.000000</td>\n",
       "      <td>7.00000</td>\n",
       "      <td>8.000000</td>\n",
       "      <td>7.000000</td>\n",
       "      <td>9.000000</td>\n",
       "      <td>6.000000</td>\n",
       "      <td>3.000000</td>\n",
       "      <td>2.000000</td>\n",
       "      <td>62.000000</td>\n",
       "      <td>2.000000</td>\n",
       "    </tr>\n",
       "    <tr>\n",
       "      <th>max</th>\n",
       "      <td>1.100143e+07</td>\n",
       "      <td>7.000000</td>\n",
       "      <td>7.000000</td>\n",
       "      <td>10.00000</td>\n",
       "      <td>10.000000</td>\n",
       "      <td>10.000000</td>\n",
       "      <td>10.000000</td>\n",
       "      <td>7.000000</td>\n",
       "      <td>5.000000</td>\n",
       "      <td>2.000000</td>\n",
       "      <td>114.000000</td>\n",
       "      <td>2.000000</td>\n",
       "    </tr>\n",
       "  </tbody>\n",
       "</table>\n",
       "</div>"
      ],
      "text/plain": [
       "               idno         year        tvtot     ppltrst      pplfair  \\\n",
       "count  8.594000e+03  8594.000000  8594.000000  8594.00000  8594.000000   \n",
       "mean   3.954938e+04     6.500000     3.862928     5.55818     6.002094   \n",
       "std    6.267259e+05     0.500029     2.019760     2.23587     2.130447   \n",
       "min    1.000000e+00     6.000000     0.000000     0.00000     0.000000   \n",
       "25%    1.052000e+03     6.000000     2.000000     4.00000     5.000000   \n",
       "50%    1.714000e+03     6.500000     4.000000     6.00000     6.000000   \n",
       "75%    2.745000e+03     7.000000     5.000000     7.00000     8.000000   \n",
       "max    1.100143e+07     7.000000     7.000000    10.00000    10.000000   \n",
       "\n",
       "            pplhlp        happy      sclmeet       sclact         gndr  \\\n",
       "count  8594.000000  8594.000000  8594.000000  8594.000000  8594.000000   \n",
       "mean      5.318013     7.694322     5.192343     2.749476     1.496858   \n",
       "std       2.173812     1.735172     1.459052     0.905112     0.500019   \n",
       "min       0.000000     0.000000     1.000000     1.000000     1.000000   \n",
       "25%       4.000000     7.000000     4.000000     2.000000     1.000000   \n",
       "50%       5.000000     8.000000     6.000000     3.000000     1.000000   \n",
       "75%       7.000000     9.000000     6.000000     3.000000     2.000000   \n",
       "max      10.000000    10.000000     7.000000     5.000000     2.000000   \n",
       "\n",
       "              agea      partner  \n",
       "count  8594.000000  8594.000000  \n",
       "mean     47.635094     1.384687  \n",
       "std      18.421901     0.486550  \n",
       "min      15.000000     1.000000  \n",
       "25%      33.000000     1.000000  \n",
       "50%      47.000000     1.000000  \n",
       "75%      62.000000     2.000000  \n",
       "max     114.000000     2.000000  "
      ]
     },
     "execution_count": 8,
     "metadata": {},
     "output_type": "execute_result"
    }
   ],
   "source": [
    "df.describe()"
   ]
  },
  {
   "cell_type": "code",
   "execution_count": 9,
   "metadata": {},
   "outputs": [
    {
     "name": "stdout",
     "output_type": "stream",
     "text": [
      "<class 'pandas.core.frame.DataFrame'>\n",
      "RangeIndex: 8594 entries, 0 to 8593\n",
      "Data columns (total 13 columns):\n",
      "cntry      8594 non-null object\n",
      "idno       8594 non-null float64\n",
      "year       8594 non-null int64\n",
      "tvtot      8594 non-null float64\n",
      "ppltrst    8594 non-null float64\n",
      "pplfair    8594 non-null float64\n",
      "pplhlp     8594 non-null float64\n",
      "happy      8594 non-null float64\n",
      "sclmeet    8594 non-null float64\n",
      "sclact     8594 non-null float64\n",
      "gndr       8594 non-null float64\n",
      "agea       8594 non-null float64\n",
      "partner    8594 non-null float64\n",
      "dtypes: float64(11), int64(1), object(1)\n",
      "memory usage: 872.9+ KB\n"
     ]
    }
   ],
   "source": [
    "df.info()"
   ]
  },
  {
   "cell_type": "markdown",
   "metadata": {},
   "source": [
    "#### Did people become less trusting from 2012 to 2014? Compute results for each country in the sample."
   ]
  },
  {
   "cell_type": "code",
   "execution_count": 10,
   "metadata": {},
   "outputs": [
    {
     "name": "stdout",
     "output_type": "stream",
     "text": [
      "cntry\n",
      "CH    5.677878\n",
      "CZ    4.351064\n",
      "DE    5.214286\n",
      "ES    5.114592\n",
      "NO    6.651163\n",
      "SE    6.059471\n",
      "Name: ppltrst, dtype: float64\n",
      "cntry\n",
      "CH    5.751617\n",
      "CZ    4.424012\n",
      "DE    5.357143\n",
      "ES    4.893652\n",
      "NO    6.599179\n",
      "SE    6.257709\n",
      "Name: ppltrst, dtype: float64\n",
      "KstestResult(statistic=0.9999932260698766, pvalue=1.9322987361189162e-31)\n",
      "KstestResult(statistic=0.9999951557717885, pvalue=2.584506108635491e-32)\n"
     ]
    }
   ],
   "source": [
    "#Where year = 6, year = 2012. Where year = 7, year = 2014. \n",
    "\n",
    "df6 = df.loc[df['year'] ==6]\n",
    "df7 = df.loc[df['year'] ==7]\n",
    "\n",
    "\n",
    "df2012 = df6.groupby(df6['cntry'])['ppltrst'].mean()\n",
    "df2014 = df7.groupby(df7['cntry'])['ppltrst'].mean()\n",
    "\n",
    "print(df2012)\n",
    "print(df2014)\n",
    "print(stats.kstest(df2012, 'norm'))\n",
    "print(stats.kstest(df2014, 'norm'))"
   ]
  },
  {
   "cell_type": "code",
   "execution_count": 11,
   "metadata": {},
   "outputs": [
    {
     "data": {
      "text/plain": [
       "WilcoxonResult(statistic=7.0, pvalue=0.463071015014588)"
      ]
     },
     "execution_count": 11,
     "metadata": {},
     "output_type": "execute_result"
    }
   ],
   "source": [
    "stats.wilcoxon(df2012,df2014)"
   ]
  },
  {
   "cell_type": "code",
   "execution_count": 12,
   "metadata": {},
   "outputs": [
    {
     "data": {
      "image/png": "[encoded data removed]",
      "text/plain": [
       "<Figure size 432x288 with 1 Axes>"
      ]
     },
     "metadata": {
      "needs_background": "light"
     },
     "output_type": "display_data"
    }
   ],
   "source": [
    "sns.distplot(df.ppltrst.dropna())\n",
    "plt.show()"
   ]
  },
  {
   "cell_type": "markdown",
   "metadata": {},
   "source": [
    "#### Did people become happier from 2012 to 2014? Compute results for each country in the sample."
   ]
  },
  {
   "cell_type": "code",
   "execution_count": 13,
   "metadata": {},
   "outputs": [
    {
     "name": "stdout",
     "output_type": "stream",
     "text": [
      "KstestResult(statistic=0.9934754577251617, pvalue=0.0)\n",
      "KstestResult(statistic=0.9682549651902544, pvalue=0.0)\n",
      "KstestResult(statistic=0.9999683287581669, pvalue=2.043343072951399e-63)\n",
      "KstestResult(statistic=0.9763912396435553, pvalue=0.0)\n",
      "KstestResult(statistic=0.9931781457440196, pvalue=0.0)\n",
      "KstestResult(statistic=0.9931434940388545, pvalue=0.0)\n"
     ]
    }
   ],
   "source": [
    "for unique in df6.cntry.unique():\n",
    "    cntry = unique\n",
    "    data_to_use = df6[df6['cntry'] == cntry]\n",
    "    print(stats.kstest(data_to_use['happy'],'norm'))\n",
    "\n",
    "    "
   ]
  },
  {
   "cell_type": "code",
   "execution_count": 14,
   "metadata": {},
   "outputs": [
    {
     "name": "stdout",
     "output_type": "stream",
     "text": [
      "CH WilcoxonResult(statistic=93043.5, pvalue=0.9182815996614322)\n",
      "CZ WilcoxonResult(statistic=78569.0, pvalue=0.2545298863954758)\n",
      "DE WilcoxonResult(statistic=23.5, pvalue=0.393351316918508)\n",
      "ES WilcoxonResult(statistic=232447.5, pvalue=0.055803287639812287)\n",
      "NO WilcoxonResult(statistic=68447.5, pvalue=1.0142278074830803e-05)\n",
      "SE WilcoxonResult(statistic=126903.5, pvalue=0.6938040837018453)\n"
     ]
    }
   ],
   "source": [
    "for unique in df6.cntry.unique():\n",
    "    cntry = unique\n",
    "    data_to_use2012 = df6[df6['cntry'] == cntry]\n",
    "    for unique2 in df7.cntry.unique():\n",
    "        if unique2 == unique:\n",
    "            cntry2 = unique2\n",
    "            data_to_use2014 = df7[df7['cntry']==cntry]\n",
    "            print(cntry, stats.wilcoxon(data_to_use2012['happy'], data_to_use2014['happy']))"
   ]
  },
  {
   "cell_type": "code",
   "execution_count": null,
   "metadata": {},
   "outputs": [],
   "source": []
  },
  {
   "cell_type": "markdown",
   "metadata": {},
   "source": [
    "#### Who reported watching more TV in 2012, men or women?"
   ]
  },
  {
   "cell_type": "code",
   "execution_count": 15,
   "metadata": {},
   "outputs": [
    {
     "name": "stdout",
     "output_type": "stream",
     "text": [
      "KstestResult(statistic=0.854058080837635, pvalue=0.0)\n",
      "KstestResult(statistic=0.8616509822579489, pvalue=0.0)\n",
      "MannwhitneyuResult(statistic=2279328.0, pvalue=0.23796364318747015)\n"
     ]
    }
   ],
   "source": [
    "for unique in df6.gndr.unique():\n",
    "    gndr = unique\n",
    "    data_to_use = df6[df6['gndr'] == gndr]\n",
    "    print(stats.kstest(data_to_use['tvtot'],'norm'))\n",
    "\n",
    "men = df6[df6['gndr']==1]\n",
    "women = df6[df6['gndr']==2]\n",
    "print(stats.mannwhitneyu(men['tvtot'],women['tvtot'],alternative='less'))\n",
    "    "
   ]
  },
  {
   "cell_type": "code",
   "execution_count": null,
   "metadata": {},
   "outputs": [],
   "source": []
  },
  {
   "cell_type": "markdown",
   "metadata": {},
   "source": [
    "#### Who was more likely to believe people were fair in 2012, people living with a partner or people living alone?\n"
   ]
  },
  {
   "cell_type": "code",
   "execution_count": 16,
   "metadata": {},
   "outputs": [
    {
     "name": "stdout",
     "output_type": "stream",
     "text": [
      "KstestResult(statistic=0.9418763516450254, pvalue=0.0)\n",
      "MannwhitneyuResult(statistic=6952546.0, pvalue=3.006053690340869e-116)\n"
     ]
    }
   ],
   "source": [
    "print(stats.kstest(df6['pplfair'], 'norm'))\n",
    "\n",
    "\n",
    "print(stats.mannwhitneyu(df6['partner']==1, df6['partner']==2))"
   ]
  },
  {
   "cell_type": "code",
   "execution_count": null,
   "metadata": {},
   "outputs": [],
   "source": []
  },
  {
   "cell_type": "markdown",
   "metadata": {},
   "source": [
    "#### Pick three or four of the countries in the sample and compare how often people met socially in 2014. Are there differences, and if so, which countries stand out?\n"
   ]
  },
  {
   "cell_type": "code",
   "execution_count": 18,
   "metadata": {},
   "outputs": [
    {
     "name": "stdout",
     "output_type": "stream",
     "text": [
      "CH KStest:  KstestResult(statistic=0.9999997133484281, pvalue=5.733031438470704e-07)\n",
      "DE KStest:  KstestResult(statistic=0.9999683287581669, pvalue=6.334248366623996e-05)\n",
      "ES KStest:  KstestResult(statistic=0.9999997133484281, pvalue=5.733031438470704e-07)\n",
      "SE KStest:  KstestResult(statistic=0.9999997133484281, pvalue=5.733031438470704e-07)\n",
      "Median Test:  (15.774872257127655, 0.0012610863417217995, 3.0, array([[ 145,    1,  180,  192],\n",
      "       [ 628,   13, 1033,  716]], dtype=int64))\n"
     ]
    }
   ],
   "source": [
    "CH = df7[df7['cntry']=='CH']\n",
    "DE = df7[df7['cntry']=='DE'] \n",
    "ES = df7[df7['cntry']=='ES']\n",
    "SE = df7[df7['cntry']=='SE']\n",
    "\n",
    "CH = CH.sclact\n",
    "DE = DE.sclact\n",
    "ES = ES.sclact\n",
    "SE = SE.sclact\n",
    "\n",
    "print('CH KStest: ', stats.kstest([CH], 'norm'))\n",
    "print('DE KStest: ', stats.kstest([DE], 'norm'))\n",
    "print('ES KStest: ', stats.kstest([ES], 'norm'))\n",
    "print('SE KStest: ', stats.kstest([SE], 'norm'))\n",
    "\n",
    "#getting nan for stat...come back to\n",
    "#ok fixed issue\n",
    "\n",
    "# Trying with Median Test\n",
    "print('Median Test: ', stats.median_test(CH,DE, ES, SE))"
   ]
  },
  {
   "cell_type": "code",
   "execution_count": 19,
   "metadata": {},
   "outputs": [
    {
     "data": {
      "text/plain": [
       "array([ 60.,  59.,  24.,  64.,  55.,  76.,  30.,  84.,  62.,  33.,  40.,\n",
       "        69.,  32.,  70.,  61.,  21.,  36.,  51.,  25.,  20.,  22.,  35.,\n",
       "        26.,  54.,  38.,  82.,  53.,  46.,  47.,  72.,  16.,  42.,  57.,\n",
       "        45.,  28.,  85.,  48.,  52.,  29.,  27.,  79.,  44.,  92.,  50.,\n",
       "        37.,  75.,  19.,  31.,  65.,  68.,  58.,  39.,  67.,  23.,  56.,\n",
       "        78.,  83.,  74.,  49.,  43.,  86.,  91.,  34.,  17.,  41.,  63.,\n",
       "        73.,  80.,  81.,  71.,  89.,  18.,  94.,  87.,  90.,  15., 103.,\n",
       "        95.,  97.,  93., 101.,  96., 114.])"
      ]
     },
     "execution_count": 19,
     "metadata": {},
     "output_type": "execute_result"
    }
   ],
   "source": [
    "df.agea.unique()"
   ]
  },
  {
   "cell_type": "markdown",
   "metadata": {},
   "source": [
    "#### Pick three or four of the countries in the sample and compare how often people took part in social activities, relative to others their age, in 2014. Are there differences, and if so, which countries stand out?"
   ]
  },
  {
   "cell_type": "code",
   "execution_count": 24,
   "metadata": {},
   "outputs": [
    {
     "name": "stdout",
     "output_type": "stream",
     "text": [
      "(147,) (6,) (243,) (263,)\n"
     ]
    },
    {
     "data": {
      "text/plain": [
       "(8.054778063040152, 0.044893070455521156, 3.0, array([[ 35,   0,  35,  57],\n",
       "        [112,   6, 208, 206]], dtype=int64))"
      ]
     },
     "execution_count": 24,
     "metadata": {},
     "output_type": "execute_result"
    }
   ],
   "source": [
    "#sort by country\n",
    "CH = df7[df7['cntry']=='CH']\n",
    "DE = df7[df7['cntry']=='DE'] \n",
    "ES = df7[df7['cntry']=='ES']\n",
    "SE = df7[df7['cntry']=='SE']\n",
    "\n",
    "#sort by age\n",
    "CH_65Plus  = CH[CH['agea']>64]\n",
    "DE_65Plus = DE[DE['agea']>64]\n",
    "ES_65Plus = ES[ES['agea']>64]\n",
    "SE_65Plus = SE[SE['agea']>64]\n",
    "\n",
    "#pull social activity\n",
    "CH_65Plus = CH_65Plus.sclact\n",
    "DE_65Plus = DE_65Plus.sclact \n",
    "ES_65Plus = ES_65Plus.sclact\n",
    "SE_65Plus = SE_65Plus.sclact \n",
    "\n",
    "\n",
    "print(CH_65Plus.shape, DE_65Plus.shape, ES_65Plus.shape, SE_65Plus.shape)\n",
    "\n",
    "stats.median_test(CH_65Plus, DE_65Plus, ES_65Plus, SE_65Plus)"
   ]
  },
  {
   "cell_type": "code",
   "execution_count": null,
   "metadata": {},
   "outputs": [],
   "source": []
  }
 ],
 "metadata": {
  "kernelspec": {
   "display_name": "Python 3",
   "language": "python",
   "name": "python3"
  },
  "language_info": {
   "codemirror_mode": {
    "name": "ipython",
    "version": 3
   },
   "file_extension": ".py",
   "mimetype": "text/x-python",
   "name": "python",
   "nbconvert_exporter": "python",
   "pygments_lexer": "ipython3",
   "version": "3.7.2"
  }
 },
 "nbformat": 4,
 "nbformat_minor": 2
}
